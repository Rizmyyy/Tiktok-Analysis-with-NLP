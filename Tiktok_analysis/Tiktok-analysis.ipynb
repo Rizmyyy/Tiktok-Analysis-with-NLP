{
 "cells": [
  {
   "cell_type": "markdown",
   "id": "de50c92c-db6a-4dc7-9245-7f789a3a9226",
   "metadata": {},
   "source": [
    "ANALISIS SENTIMEN PADA ULASAN PRODUK DI TIKTOK SHOP MENGGUNAKAN METODE NATURAL KANGUANGE PROCESSING (NLP) \n",
    "\n",
    "Introduction:\n",
    "Mohammad Satria Zacky Mudzaffar\n",
    "\n",
    "Dataset : TikTok_analysis/Reviews.csv"
   ]
  },
  {
   "cell_type": "markdown",
   "id": "94195bcb-e597-4942-8fdd-491a2f5a689e",
   "metadata": {},
   "source": [
    "Membaca Dataset dan Menampilkan Data Awal"
   ]
  },
  {
   "cell_type": "code",
   "execution_count": 1,
   "id": "e4cc2b6e-9f16-4576-9c61-35b89ff0017f",
   "metadata": {},
   "outputs": [
    {
     "data": {
      "text/html": [
       "<div>\n",
       "<style scoped>\n",
       "    .dataframe tbody tr th:only-of-type {\n",
       "        vertical-align: middle;\n",
       "    }\n",
       "\n",
       "    .dataframe tbody tr th {\n",
       "        vertical-align: top;\n",
       "    }\n",
       "\n",
       "    .dataframe thead th {\n",
       "        text-align: right;\n",
       "    }\n",
       "</style>\n",
       "<table border=\"1\" class=\"dataframe\">\n",
       "  <thead>\n",
       "    <tr style=\"text-align: right;\">\n",
       "      <th></th>\n",
       "      <th>Produk</th>\n",
       "      <th>Ulasan</th>\n",
       "      <th>Rating</th>\n",
       "      <th>Tanggal</th>\n",
       "    </tr>\n",
       "  </thead>\n",
       "  <tbody>\n",
       "    <tr>\n",
       "      <th>0</th>\n",
       "      <td>Sepatu Running</td>\n",
       "      <td>Sangat bagus dan ukurannya sesuai</td>\n",
       "      <td>5</td>\n",
       "      <td>2024-10-14</td>\n",
       "    </tr>\n",
       "    <tr>\n",
       "      <th>1</th>\n",
       "      <td>G2G Peeling Solution</td>\n",
       "      <td>Niat nya coba-coba, Alhamdulillah cocok</td>\n",
       "      <td>5</td>\n",
       "      <td>2025-02-08</td>\n",
       "    </tr>\n",
       "    <tr>\n",
       "      <th>2</th>\n",
       "      <td>Shacket Jaket</td>\n",
       "      <td>Ada jahitan yang ga rapi</td>\n",
       "      <td>4</td>\n",
       "      <td>2025-03-19</td>\n",
       "    </tr>\n",
       "    <tr>\n",
       "      <th>3</th>\n",
       "      <td>Azarine Sunscreen</td>\n",
       "      <td>cocok di muka yang sensitif</td>\n",
       "      <td>5</td>\n",
       "      <td>04-10</td>\n",
       "    </tr>\n",
       "    <tr>\n",
       "      <th>4</th>\n",
       "      <td>T-Shirt Polos</td>\n",
       "      <td>Pengemasan lama, jahitan rapi, bahan tipis</td>\n",
       "      <td>4</td>\n",
       "      <td>2025-04-10</td>\n",
       "    </tr>\n",
       "  </tbody>\n",
       "</table>\n",
       "</div>"
      ],
      "text/plain": [
       "                 Produk                                      Ulasan  Rating  \\\n",
       "0        Sepatu Running           Sangat bagus dan ukurannya sesuai       5   \n",
       "1  G2G Peeling Solution     Niat nya coba-coba, Alhamdulillah cocok       5   \n",
       "2         Shacket Jaket                    Ada jahitan yang ga rapi       4   \n",
       "3     Azarine Sunscreen                 cocok di muka yang sensitif       5   \n",
       "4         T-Shirt Polos  Pengemasan lama, jahitan rapi, bahan tipis       4   \n",
       "\n",
       "      Tanggal  \n",
       "0  2024-10-14  \n",
       "1  2025-02-08  \n",
       "2  2025-03-19  \n",
       "3       04-10  \n",
       "4  2025-04-10  "
      ]
     },
     "execution_count": 1,
     "metadata": {},
     "output_type": "execute_result"
    }
   ],
   "source": [
    "import pandas as pd\n",
    "\n",
    "# Load CSV\n",
    "df = pd.read_csv(\"Reviews.csv\")\n",
    "\n",
    "# Lihat 5 data awal\n",
    "df.head()\n"
   ]
  },
  {
   "cell_type": "markdown",
   "id": "c9d62c0c-d290-4b61-9ebe-0aa273db5b92",
   "metadata": {},
   "source": [
    " Informasi Struktur Data dan Deteksi Nilai Kosong"
   ]
  },
  {
   "cell_type": "code",
   "execution_count": 2,
   "id": "69ef35cb-dc1a-42cd-bdb6-acba3db8aae8",
   "metadata": {
    "scrolled": true
   },
   "outputs": [
    {
     "name": "stdout",
     "output_type": "stream",
     "text": [
      "<class 'pandas.core.frame.DataFrame'>\n",
      "RangeIndex: 12 entries, 0 to 11\n",
      "Data columns (total 4 columns):\n",
      " #   Column   Non-Null Count  Dtype \n",
      "---  ------   --------------  ----- \n",
      " 0   Produk   12 non-null     object\n",
      " 1   Ulasan   12 non-null     object\n",
      " 2   Rating   12 non-null     int64 \n",
      " 3   Tanggal  12 non-null     object\n",
      "dtypes: int64(1), object(3)\n",
      "memory usage: 512.0+ bytes\n",
      "None\n",
      "Produk     0\n",
      "Ulasan     0\n",
      "Rating     0\n",
      "Tanggal    0\n",
      "dtype: int64\n"
     ]
    }
   ],
   "source": [
    "print(df.info())\n",
    "print(df.isnull().sum())\n"
   ]
  },
  {
   "cell_type": "markdown",
   "id": "6a4c3098-bd54-4486-9db0-aa496760e559",
   "metadata": {},
   "source": [
    "Mengunduh Resource NLTK untuk Pemrosesan Teks"
   ]
  },
  {
   "cell_type": "code",
   "execution_count": 4,
   "id": "e6c096c1-4352-4926-859f-457190ccbce1",
   "metadata": {
    "scrolled": true
   },
   "outputs": [
    {
     "name": "stderr",
     "output_type": "stream",
     "text": [
      "[nltk_data] Downloading package punkt to C:\\Users\\Hype\n",
      "[nltk_data]     GLK\\AppData\\Roaming\\nltk_data...\n",
      "[nltk_data]   Package punkt is already up-to-date!\n",
      "[nltk_data] Downloading package stopwords to C:\\Users\\Hype\n",
      "[nltk_data]     GLK\\AppData\\Roaming\\nltk_data...\n",
      "[nltk_data]   Package stopwords is already up-to-date!\n",
      "[nltk_data] Downloading package vader_lexicon to C:\\Users\\Hype\n",
      "[nltk_data]     GLK\\AppData\\Roaming\\nltk_data...\n",
      "[nltk_data]   Package vader_lexicon is already up-to-date!\n"
     ]
    },
    {
     "data": {
      "text/plain": [
       "True"
      ]
     },
     "execution_count": 4,
     "metadata": {},
     "output_type": "execute_result"
    }
   ],
   "source": [
    "import nltk\n",
    "nltk.download('punkt')\n",
    "nltk.download('stopwords')\n",
    "nltk.download('vader_lexicon')  # Untuk analisis sentimen\n"
   ]
  },
  {
   "cell_type": "markdown",
   "id": "72b5b623-24c5-4bce-b676-77bb33e34e6d",
   "metadata": {},
   "source": [
    " Melihat Contoh Ulasan dan Memeriksa Tipe Datanya"
   ]
  },
  {
   "cell_type": "code",
   "execution_count": 7,
   "id": "a8e45059-af08-43ef-834d-a8515ce2fd5c",
   "metadata": {},
   "outputs": [
    {
     "name": "stdout",
     "output_type": "stream",
     "text": [
      "0                  Sangat bagus dan ukurannya sesuai\n",
      "1            Niat nya coba-coba, Alhamdulillah cocok\n",
      "2                           Ada jahitan yang ga rapi\n",
      "3                        cocok di muka yang sensitif\n",
      "4         Pengemasan lama, jahitan rapi, bahan tipis\n",
      "5       Kurang tahan lama, wajar dengan harga segitu\n",
      "6                        keren bagus banget aku suka\n",
      "7    Kecewa banget, saya pesan hitam yg datang putih\n",
      "8                                    Gamau nyala kak\n",
      "9            ga expect sebagus ini woi bahannya adem\n",
      "Name: Ulasan, dtype: object\n",
      "[<class 'str'>]\n"
     ]
    }
   ],
   "source": [
    "print(df[\"Ulasan\"].head(10))\n",
    "print(df[\"Ulasan\"].apply(type).unique())\n"
   ]
  },
  {
   "cell_type": "markdown",
   "id": "30b24dec-c3ab-42ba-b76a-b34b38721312",
   "metadata": {},
   "source": [
    "Membaca Dataset dari Jalur Lokal dan Menampilkan Informasi Awal"
   ]
  },
  {
   "cell_type": "code",
   "execution_count": 14,
   "id": "eef937ef-caee-491e-8284-e9b05fe27028",
   "metadata": {
    "scrolled": true
   },
   "outputs": [
    {
     "name": "stdout",
     "output_type": "stream",
     "text": [
      "<class 'pandas.core.frame.DataFrame'>\n",
      "RangeIndex: 12 entries, 0 to 11\n",
      "Data columns (total 4 columns):\n",
      " #   Column   Non-Null Count  Dtype \n",
      "---  ------   --------------  ----- \n",
      " 0   Produk   12 non-null     object\n",
      " 1   Ulasan   12 non-null     object\n",
      " 2   Rating   12 non-null     int64 \n",
      " 3   Tanggal  12 non-null     object\n",
      "dtypes: int64(1), object(3)\n",
      "memory usage: 512.0+ bytes\n",
      "None\n",
      "                 Produk                                      Ulasan  Rating  \\\n",
      "0        Sepatu Running           Sangat bagus dan ukurannya sesuai       5   \n",
      "1  G2G Peeling Solution     Niat nya coba-coba, Alhamdulillah cocok       5   \n",
      "2         Shacket Jaket                    Ada jahitan yang ga rapi       4   \n",
      "3     Azarine Sunscreen                 cocok di muka yang sensitif       5   \n",
      "4         T-Shirt Polos  Pengemasan lama, jahitan rapi, bahan tipis       4   \n",
      "\n",
      "      Tanggal  \n",
      "0  2024-10-14  \n",
      "1  2025-02-08  \n",
      "2  2025-03-19  \n",
      "3       04-10  \n",
      "4  2025-04-10  \n"
     ]
    }
   ],
   "source": [
    "import pandas as pd\n",
    "\n",
    "# Cara aman: pakai r-string\n",
    "df = pd.read_csv(r\"C:\\Users\\Hype GLK\\Tiktok_analysis\\Reviews.csv\")\n",
    "\n",
    "# Cek data\n",
    "print(df.info())\n",
    "print(df.head())\n"
   ]
  },
  {
   "cell_type": "markdown",
   "id": "d1c97614-3c3a-4393-a3bc-ade4d7fb15b9",
   "metadata": {},
   "source": [
    "Analisis Sentimen Ulasan Produk TikTok\n",
    "1. Membaca Data: Dataset Reviews.csv dibaca menggunakan pandas untuk dianalisis.\n",
    "2. Penerjemahan otomatis ulasan ke Bahasa Inggris: Menggunakan Google Translator dari deep_translator untuk menerjemahkan kolom Ulasan ke dalam bahasa Inggris agar analisis sentimen lebih akurat.\n",
    "3. Analisis Sentimen dengan VADER: Menggunakan VADER Sentiment Analyzer dari NLTK untuk menghitung skor sentimen dari setiap ulasan yang sudah diterjemahkan. VADER memberikan skor compound yang menunjukkan seberapa positif, negatif, atau netralnya teks tersebut.\n",
    "4. Pemberian Label Sentimen: Berdasarkan skor sentimen, kita memberi label:\n",
    "    Positif untuk skor ≥ 0.05\n",
    "    Negatif untuk skor ≤ -0.05\n",
    "    Netral untuk skor antara -0.05 dan 0.05.\n",
    "5. Visualisasi Distribusi Sentimen: Diagram batang digunakan untuk menunjukkan distribusi kategori sentimen di seluruh dataset."
   ]
  },
  {
   "cell_type": "code",
   "execution_count": 15,
   "id": "ff539d1b-82e9-435b-a496-c8d5b4ba0087",
   "metadata": {},
   "outputs": [
    {
     "name": "stderr",
     "output_type": "stream",
     "text": [
      "[nltk_data] Downloading package vader_lexicon to C:\\Users\\Hype\n",
      "[nltk_data]     GLK\\AppData\\Roaming\\nltk_data...\n",
      "[nltk_data]   Package vader_lexicon is already up-to-date!\n"
     ]
    },
    {
     "name": "stdout",
     "output_type": "stream",
     "text": [
      "                                               Ulasan  \\\n",
      "0                   Sangat bagus dan ukurannya sesuai   \n",
      "1             Niat nya coba-coba, Alhamdulillah cocok   \n",
      "2                            Ada jahitan yang ga rapi   \n",
      "3                         cocok di muka yang sensitif   \n",
      "4          Pengemasan lama, jahitan rapi, bahan tipis   \n",
      "5        Kurang tahan lama, wajar dengan harga segitu   \n",
      "6                         keren bagus banget aku suka   \n",
      "7     Kecewa banget, saya pesan hitam yg datang putih   \n",
      "8                                     Gamau nyala kak   \n",
      "9             ga expect sebagus ini woi bahannya adem   \n",
      "10                         kado sesuai bagus bahannya   \n",
      "11  modelnya bagus tapi talinya copot pas baru nyampe   \n",
      "\n",
      "                                       Ulasan_English  sentiment_score  \\\n",
      "0               Very good and the size is appropriate           0.4927   \n",
      "1       The intention is to try, thank God it matches           0.5574   \n",
      "2                  There is a stitch that is not neat          -0.3570   \n",
      "3                                 Suitable in advance           0.0000   \n",
      "4         Old packaging, neat stitches, thin material           0.4588   \n",
      "5            Less durable, reasonable with that price           0.0000   \n",
      "6                                  really cool I like           0.6566   \n",
      "7        Very disappointed, I ordered the black white          -0.5256   \n",
      "8                                  The Guys can be as           0.0000   \n",
      "9   GA expect as good as this, the ingredients are...           0.6369   \n",
      "10                  gift according to the ingredients           0.4404   \n",
      "11  the model is good but the rope is dislodged wh...           0.2382   \n",
      "\n",
      "   sentiment_label  \n",
      "0          Positif  \n",
      "1          Positif  \n",
      "2          Negatif  \n",
      "3           Netral  \n",
      "4          Positif  \n",
      "5           Netral  \n",
      "6          Positif  \n",
      "7          Negatif  \n",
      "8           Netral  \n",
      "9          Positif  \n",
      "10         Positif  \n",
      "11         Positif  \n"
     ]
    },
    {
     "data": {
      "image/png": "[encoded data removed]",
      "text/plain": [
       "<Figure size 600x400 with 1 Axes>"
      ]
     },
     "metadata": {},
     "output_type": "display_data"
    }
   ],
   "source": [
    "# Import library\n",
    "import pandas as pd\n",
    "import nltk\n",
    "from nltk.sentiment.vader import SentimentIntensityAnalyzer\n",
    "from deep_translator import GoogleTranslator\n",
    "import matplotlib.pyplot as plt\n",
    "\n",
    "# Download resource untuk NLTK\n",
    "nltk.download('vader_lexicon')\n",
    "# Baca data CSV\n",
    "df = pd.read_csv(r\"C:\\Users\\Hype GLK\\Tiktok_analysis\\Reviews.csv\")\n",
    "# Terjemahkan ulasan ke bahasa Inggris\n",
    "df[\"Ulasan_English\"] = df[\"Ulasan\"].apply(lambda x: GoogleTranslator(source='auto', target='en').translate(x))\n",
    "# Inisialisasi VADER sentiment analyzer\n",
    "analyzer = SentimentIntensityAnalyzer()\n",
    "# Hitung skor sentimen\n",
    "df[\"sentiment_score\"] = df[\"Ulasan_English\"].apply(lambda x: analyzer.polarity_scores(x)[\"compound\"])\n",
    "# Fungsi untuk memberi label berdasarkan skor\n",
    "def label_sentiment(score):\n",
    "    if score >= 0.05:\n",
    "        return \"Positif\"\n",
    "    elif score <= -0.05:\n",
    "        return \"Negatif\"\n",
    "    else:\n",
    "        return \"Netral\"\n",
    "# Tambahkan kolom label sentimen\n",
    "df[\"sentiment_label\"] = df[\"sentiment_score\"].apply(label_sentiment)\n",
    "# Tampilkan hasil\n",
    "print(df[[\"Ulasan\", \"Ulasan_English\", \"sentiment_score\", \"sentiment_label\"]])\n",
    "\n",
    "# Buat diagram batang\n",
    "sentiment_counts = df[\"sentiment_label\"].value_counts()\n",
    "\n",
    "plt.figure(figsize=(6, 4))\n",
    "colors = ['green', 'orange', 'red']\n",
    "sentiment_counts.plot(kind='bar', color=colors)\n",
    "plt.title(\"Distribusi Sentimen Ulasan Produk TikTok\")\n",
    "plt.xlabel(\"Kategori Sentimen\")\n",
    "plt.ylabel(\"Jumlah Ulasan\")\n",
    "plt.xticks(rotation=0)\n",
    "plt.tight_layout()\n",
    "plt.show()\n"
   ]
  }
 ],
 "metadata": {
  "kernelspec": {
   "display_name": "Python 3 (ipykernel)",
   "language": "python",
   "name": "python3"
  },
  "language_info": {
   "codemirror_mode": {
    "name": "ipython",
    "version": 3
   },
   "file_extension": ".py",
   "mimetype": "text/x-python",
   "name": "python",
   "nbconvert_exporter": "python",
   "pygments_lexer": "ipython3",
   "version": "3.9.0"
  }
 },
 "nbformat": 4,
 "nbformat_minor": 5
}
